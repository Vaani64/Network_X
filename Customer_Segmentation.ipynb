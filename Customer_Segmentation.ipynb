{
 "cells": [
  {
   "cell_type": "code",
   "execution_count": 1,
   "id": "f35aa9ef",
   "metadata": {},
   "outputs": [
    {
     "name": "stdout",
     "output_type": "stream",
     "text": [
      "degree centrality:\n",
      "Customer A:0.50\n",
      "Customer B:0.75\n",
      "Customer C:1.00\n",
      "Customer D:0.50\n",
      "Customer E:0.25\n",
      "betweenness centrality:\n",
      "Customer A:0.00\n",
      "Customer B:0.08\n",
      "Customer C:0.58\n",
      "Customer D:0.00\n",
      "Customer E:0.00\n",
      "closeness centrality:\n",
      "Customer A:0.67\n",
      "Customer B:0.80\n",
      "Customer C:1.00\n",
      "Customer D:0.67\n",
      "Customer E:0.57\n"
     ]
    }
   ],
   "source": [
    "import networkx as nx\n",
    "import matplotlib.pyplot as plt\n",
    "\n",
    "# Create the graph\n",
    "G = nx.Graph()\n",
    "\n",
    "nodes = {1: \"Customer A\", \n",
    "          2: \"Customer B\", \n",
    "          3: \"Customer C\", \n",
    "          4: \"Customer D\",\n",
    "          5: \"Customer E\"\n",
    "        }\n",
    "G.add_nodes_from(nodes.keys())\n",
    "edges=[\n",
    "    (1,2),\n",
    "    (1,3),\n",
    "    (2,3),\n",
    "    (2,4),\n",
    "    (3,4),\n",
    "    (3,5),\n",
    "]\n",
    "G.add_edges_from(edges)\n",
    "#compute centrality measure\n",
    "degree_centrality=nx.degree_centrality(G)\n",
    "betweenness_centrality=nx.betweenness_centrality(G)\n",
    "closeness_centrality=nx.closeness_centrality(G)\n",
    "#print centrality measure for each customer\n",
    "print(\"degree centrality:\")\n",
    "for node,centrality in degree_centrality.items():\n",
    "    print(f\"{nodes[node]}:{centrality:.2f}\")\n",
    "\n",
    "print(\"betweenness centrality:\")\n",
    "for node,centrality in betweenness_centrality.items():\n",
    "    print(f\"{nodes[node]}:{centrality:.2f}\")\n",
    "print(\"closeness centrality:\")\n",
    "for node,centrality in closeness_centrality.items():\n",
    "    print(f\"{nodes[node]}:{centrality:.2f}\")\n",
    "\n",
    "    "
   ]
  }
 ],
 "metadata": {
  "kernelspec": {
   "display_name": "Python 3 (ipykernel)",
   "language": "python",
   "name": "python3"
  },
  "language_info": {
   "codemirror_mode": {
    "name": "ipython",
    "version": 3
   },
   "file_extension": ".py",
   "mimetype": "text/x-python",
   "name": "python",
   "nbconvert_exporter": "python",
   "pygments_lexer": "ipython3",
   "version": "3.11.5"
  }
 },
 "nbformat": 4,
 "nbformat_minor": 5
}
